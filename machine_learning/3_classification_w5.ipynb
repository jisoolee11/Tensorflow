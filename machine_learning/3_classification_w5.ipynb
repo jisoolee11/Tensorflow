{
  "nbformat": 4,
  "nbformat_minor": 0,
  "metadata": {
    "colab": {
      "name": "3.classification_w5.ipynb",
      "provenance": [],
      "collapsed_sections": [],
      "machine_shape": "hm",
      "authorship_tag": "ABX9TyMTBeFLM5WaE22FAnnOgFKb",
      "include_colab_link": true
    },
    "kernelspec": {
      "name": "python3",
      "display_name": "Python 3"
    },
    "language_info": {
      "name": "python"
    },
    "accelerator": "GPU"
  },
  "cells": [
    {
      "cell_type": "markdown",
      "metadata": {
        "id": "view-in-github",
        "colab_type": "text"
      },
      "source": [
        "<a href=\"https://colab.research.google.com/github/jisoolee11/school/blob/main/machine_learning/3_classification_w5.ipynb\" target=\"_parent\"><img src=\"https://colab.research.google.com/assets/colab-badge.svg\" alt=\"Open In Colab\"/></a>"
      ]
    },
    {
      "cell_type": "markdown",
      "metadata": {
        "id": "RTycEC921aWP"
      },
      "source": [
        "# CHAPTER 03.분류"
      ]
    },
    {
      "cell_type": "markdown",
      "metadata": {
        "id": "holzVk9z1g8x"
      },
      "source": [
        "## MNIST"
      ]
    },
    {
      "cell_type": "code",
      "metadata": {
        "id": "_Dpwd4Q3zZvc"
      },
      "source": [
        "import numpy as np"
      ],
      "execution_count": null,
      "outputs": []
    },
    {
      "cell_type": "code",
      "metadata": {
        "colab": {
          "base_uri": "https://localhost:8080/"
        },
        "id": "y4f-2nUKv_T3",
        "outputId": "d53b43e0-09f3-4cc4-d91e-ff703b271fdd"
      },
      "source": [
        "# MNIST 데이터셋을 내려받는 코드\n",
        "from sklearn.datasets import fetch_openml\n",
        "mnist = fetch_openml('mnist_784', version=1, as_frame=False)\n",
        "mnist.keys()"
      ],
      "execution_count": null,
      "outputs": [
        {
          "output_type": "execute_result",
          "data": {
            "text/plain": [
              "dict_keys(['data', 'target', 'frame', 'feature_names', 'target_names', 'DESCR', 'details', 'categories', 'url'])"
            ]
          },
          "metadata": {
            "tags": []
          },
          "execution_count": 5
        }
      ]
    },
    {
      "cell_type": "code",
      "metadata": {
        "colab": {
          "base_uri": "https://localhost:8080/"
        },
        "id": "UkzYOTMcwPyO",
        "outputId": "dba512f3-0b24-47fc-fc25-37337843e023"
      },
      "source": [
        "# 배열 살펴보기\n",
        "X, y = mnist[\"data\"], mnist[\"target\"]\n",
        "X.shape  # 이미지가 70000개, 784(28x28)개의 특성"
      ],
      "execution_count": null,
      "outputs": [
        {
          "output_type": "execute_result",
          "data": {
            "text/plain": [
              "(70000, 784)"
            ]
          },
          "metadata": {
            "tags": []
          },
          "execution_count": 6
        }
      ]
    },
    {
      "cell_type": "code",
      "metadata": {
        "colab": {
          "base_uri": "https://localhost:8080/"
        },
        "id": "YBz-b_SqyuoM",
        "outputId": "19cddd56-0b0d-4845-b6bc-b948f9558995"
      },
      "source": [
        "y.shape"
      ],
      "execution_count": null,
      "outputs": [
        {
          "output_type": "execute_result",
          "data": {
            "text/plain": [
              "(70000,)"
            ]
          },
          "metadata": {
            "tags": []
          },
          "execution_count": 7
        }
      ]
    },
    {
      "cell_type": "code",
      "metadata": {
        "colab": {
          "base_uri": "https://localhost:8080/",
          "height": 248
        },
        "id": "bEl47lJUyv05",
        "outputId": "67f55d19-9624-4040-fb71-a14180f1be0e"
      },
      "source": [
        "import matplotlib as mpl\n",
        "import matplotlib.pyplot as plt\n",
        "\n",
        "some_digit = X[97]\n",
        "some_digit_image = some_digit.reshape(28, 28)  # 28x28 배열로 크기를 바꾼다.\n",
        "\n",
        "plt.imshow(some_digit_image, cmap=\"binary\") # 이미지 보이기\n",
        "plt.axis(\"off\")\n",
        "plt.show()"
      ],
      "execution_count": null,
      "outputs": [
        {
          "output_type": "display_data",
          "data": {
            "image/png": "[encoded data removed]",
            "text/plain": [
              "<Figure size 432x288 with 1 Axes>"
            ]
          },
          "metadata": {
            "tags": [],
            "needs_background": "light"
          }
        }
      ]
    },
    {
      "cell_type": "code",
      "metadata": {
        "colab": {
          "base_uri": "https://localhost:8080/",
          "height": 35
        },
        "id": "VtW_aFSjzKe0",
        "outputId": "10883abe-1068-4ea2-f50d-1762287127c4"
      },
      "source": [
        "y[97]  # 레이블 확인"
      ],
      "execution_count": null,
      "outputs": [
        {
          "output_type": "execute_result",
          "data": {
            "application/vnd.google.colaboratory.intrinsic+json": {
              "type": "string"
            },
            "text/plain": [
              "'8'"
            ]
          },
          "metadata": {
            "tags": []
          },
          "execution_count": 9
        }
      ]
    },
    {
      "cell_type": "code",
      "metadata": {
        "id": "4DkfopGlzW11"
      },
      "source": [
        "y = y.astype(np.uint8)  # y를 정수형으로 변환"
      ],
      "execution_count": null,
      "outputs": []
    },
    {
      "cell_type": "code",
      "metadata": {
        "id": "toWIMJL10KmU"
      },
      "source": [
        "# 훈련 세트 60000개와 테스트 세트 10000개\n",
        "X_train, X_test, y_train, y_test = X[:60000], X[60000:], y[:60000], y[60000:]"
      ],
      "execution_count": null,
      "outputs": []
    },
    {
      "cell_type": "markdown",
      "metadata": {
        "id": "HbNAeIhS0dWK"
      },
      "source": [
        "## 이진 분류기 훈련"
      ]
    },
    {
      "cell_type": "code",
      "metadata": {
        "id": "_Kt9jFH65Jrc"
      },
      "source": [
        "# 분류 작업을 위한 타깃 벡터\n",
        "y_train_5 = (y_train == 5)\n",
        "y_test_5 = (y_test == 5)\n",
        "y_train_8 = (y_train == 8)\n",
        "y_test_8 = (y_test == 8)"
      ],
      "execution_count": null,
      "outputs": []
    },
    {
      "cell_type": "code",
      "metadata": {
        "colab": {
          "base_uri": "https://localhost:8080/"
        },
        "id": "Fo9NXl445ps1",
        "outputId": "519ba76c-173e-4ae7-9526-6b0fd8d101bd"
      },
      "source": [
        "# SGD(확률적 경사 하강법)를이용한 훈련\n",
        "from sklearn.linear_model import SGDClassifier\n",
        "\n",
        "sgd_clf_5 = SGDClassifier(random_state=789)\n",
        "sgd_clf_8 = SGDClassifier(random_state=789)\n",
        "sgd_clf_5.fit(X_train, y_train_5)\n",
        "sgd_clf_8.fit(X_train, y_train_8)"
      ],
      "execution_count": null,
      "outputs": [
        {
          "output_type": "execute_result",
          "data": {
            "text/plain": [
              "SGDClassifier(alpha=0.0001, average=False, class_weight=None,\n",
              "              early_stopping=False, epsilon=0.1, eta0=0.0, fit_intercept=True,\n",
              "              l1_ratio=0.15, learning_rate='optimal', loss='hinge',\n",
              "              max_iter=1000, n_iter_no_change=5, n_jobs=None, penalty='l2',\n",
              "              power_t=0.5, random_state=789, shuffle=True, tol=0.001,\n",
              "              validation_fraction=0.1, verbose=0, warm_start=False)"
            ]
          },
          "metadata": {
            "tags": []
          },
          "execution_count": 13
        }
      ]
    },
    {
      "cell_type": "code",
      "metadata": {
        "colab": {
          "base_uri": "https://localhost:8080/"
        },
        "id": "j76nSyWf6Fn-",
        "outputId": "ee608256-d7ee-4bb4-920c-44c26dc31ea1"
      },
      "source": [
        "# 숫자5 이미지 감지(5를 추측하지 못했다.)\n",
        "sgd_clf_5.predict([some_digit])"
      ],
      "execution_count": null,
      "outputs": [
        {
          "output_type": "execute_result",
          "data": {
            "text/plain": [
              "array([False])"
            ]
          },
          "metadata": {
            "tags": []
          },
          "execution_count": 14
        }
      ]
    },
    {
      "cell_type": "code",
      "metadata": {
        "colab": {
          "base_uri": "https://localhost:8080/"
        },
        "id": "TDFNXIi36Nnv",
        "outputId": "85885d14-fde3-4db3-9e42-5449278cfcac"
      },
      "source": [
        "# 숫자8 이미지 감지(8을 추측했다.)\n",
        "sgd_clf_8.predict([some_digit])"
      ],
      "execution_count": null,
      "outputs": [
        {
          "output_type": "execute_result",
          "data": {
            "text/plain": [
              "array([ True])"
            ]
          },
          "metadata": {
            "tags": []
          },
          "execution_count": 15
        }
      ]
    },
    {
      "cell_type": "markdown",
      "metadata": {
        "id": "QVM7fwPh7mZb"
      },
      "source": [
        "## 성능 측정"
      ]
    },
    {
      "cell_type": "markdown",
      "metadata": {
        "id": "z1TgVCIa8pMs"
      },
      "source": [
        "### 교차 검증을 사용한 정확도 측정"
      ]
    },
    {
      "cell_type": "code",
      "metadata": {
        "colab": {
          "base_uri": "https://localhost:8080/"
        },
        "id": "LUUH0DK867ja",
        "outputId": "47aeffb0-1ba1-4229-9034-68181db36c5d"
      },
      "source": [
        "# 폴드가 3개인 k-겹 교차 검증을 사용해 SGDClassifier 모델 평가\n",
        "from sklearn.model_selection import cross_val_score\n",
        "\n",
        "cross_val_score(sgd_clf_8, X_train, y_train_8, cv=3, scoring=\"accuracy\")"
      ],
      "execution_count": null,
      "outputs": [
        {
          "output_type": "execute_result",
          "data": {
            "text/plain": [
              "array([0.89035, 0.9361 , 0.9395 ])"
            ]
          },
          "metadata": {
            "tags": []
          },
          "execution_count": 16
        }
      ]
    },
    {
      "cell_type": "markdown",
      "metadata": {
        "id": "9nfwGKV_8t19"
      },
      "source": [
        "### 오차 행렬"
      ]
    },
    {
      "cell_type": "code",
      "metadata": {
        "id": "E8nL3xB48z3w"
      },
      "source": [
        "# cross_val_predict 함수는 k-겹 교차 검증을 수행하지만 평가 점수를 반환하지 않고 각 테스트 폴드에서 얻은 예측을 반환\n",
        "# 행: 실제 클래스\n",
        "# 열: 예측한 클래스\n",
        "# 진짜 음성   거짓 양성\n",
        "# 거짓 음성   진짜 양성\n",
        "from sklearn.model_selection import cross_val_predict\n",
        "\n",
        "y_train_pred = cross_val_predict(sgd_clf_8, X_train, y_train_8, cv=3)"
      ],
      "execution_count": null,
      "outputs": []
    },
    {
      "cell_type": "code",
      "metadata": {
        "colab": {
          "base_uri": "https://localhost:8080/"
        },
        "id": "Kh52n8dPFN14",
        "outputId": "4c7f5470-273f-42c3-b912-71247a0bae6a"
      },
      "source": [
        "from sklearn.metrics import confusion_matrix\n",
        "confusion_matrix(y_train_8, y_train_pred)"
      ],
      "execution_count": null,
      "outputs": [
        {
          "output_type": "execute_result",
          "data": {
            "text/plain": [
              "array([[51579,  2570],\n",
              "       [ 2111,  3740]])"
            ]
          },
          "metadata": {
            "tags": []
          },
          "execution_count": 25
        }
      ]
    },
    {
      "cell_type": "code",
      "metadata": {
        "colab": {
          "base_uri": "https://localhost:8080/"
        },
        "id": "XqZIP2VWFgIS",
        "outputId": "6073bf9e-907f-4f11-ebd7-5c6448995aa1"
      },
      "source": [
        "# 완벽한 분류기인 경우\n",
        "y_train_perfect_predictions = y_train_8\n",
        "confusion_matrix(y_train_8, y_train_perfect_predictions)"
      ],
      "execution_count": null,
      "outputs": [
        {
          "output_type": "execute_result",
          "data": {
            "text/plain": [
              "array([[54149,     0],\n",
              "       [    0,  5851]])"
            ]
          },
          "metadata": {
            "tags": []
          },
          "execution_count": 26
        }
      ]
    },
    {
      "cell_type": "markdown",
      "metadata": {
        "id": "tO4zTr_bFrgw"
      },
      "source": [
        "### 정밀도와 재현율"
      ]
    },
    {
      "cell_type": "code",
      "metadata": {
        "colab": {
          "base_uri": "https://localhost:8080/"
        },
        "id": "tvV_5f8iFwEA",
        "outputId": "2ba813be-06e7-46e0-ec5f-b403821f54d9"
      },
      "source": [
        "# 분류기의 지표를 계산하는 함수\n",
        "from sklearn.metrics import precision_score, recall_score\n",
        "precision_score(y_train_8, y_train_pred)"
      ],
      "execution_count": null,
      "outputs": [
        {
          "output_type": "execute_result",
          "data": {
            "text/plain": [
              "0.5927099841521395"
            ]
          },
          "metadata": {
            "tags": []
          },
          "execution_count": 27
        }
      ]
    },
    {
      "cell_type": "code",
      "metadata": {
        "colab": {
          "base_uri": "https://localhost:8080/"
        },
        "id": "94cVQBJcGAgE",
        "outputId": "c4535103-fb20-49b1-d0f9-d1dbde067a05"
      },
      "source": [
        "recall_score(y_train_8, y_train_pred)"
      ],
      "execution_count": null,
      "outputs": [
        {
          "output_type": "execute_result",
          "data": {
            "text/plain": [
              "0.63920697316698"
            ]
          },
          "metadata": {
            "tags": []
          },
          "execution_count": 28
        }
      ]
    },
    {
      "cell_type": "code",
      "metadata": {
        "colab": {
          "base_uri": "https://localhost:8080/"
        },
        "id": "nNKtCMGLGHf_",
        "outputId": "69d78749-eb74-4f39-aa7b-ce267dfc22f1"
      },
      "source": [
        "# 조화평균\n",
        "from sklearn.metrics import f1_score\n",
        "f1_score(y_train_8, y_train_pred)"
      ],
      "execution_count": null,
      "outputs": [
        {
          "output_type": "execute_result",
          "data": {
            "text/plain": [
              "0.6150809966285667"
            ]
          },
          "metadata": {
            "tags": []
          },
          "execution_count": 32
        }
      ]
    },
    {
      "cell_type": "markdown",
      "metadata": {
        "id": "nRNrIjKtGVJX"
      },
      "source": [
        "### 정밀도/재현율 트레이드오프"
      ]
    },
    {
      "cell_type": "code",
      "metadata": {
        "colab": {
          "base_uri": "https://localhost:8080/"
        },
        "id": "tVhn-Eq0GbaE",
        "outputId": "2594753e-95d7-4dc0-cffa-75748edde722"
      },
      "source": [
        "# 샘플의 점수를 기반으로 원하는 임곗값을 정해 예측을 만든다\n",
        "y_scores = sgd_clf_8.decision_function([some_digit])\n",
        "y_scores"
      ],
      "execution_count": null,
      "outputs": [
        {
          "output_type": "execute_result",
          "data": {
            "text/plain": [
              "array([1482.33827729])"
            ]
          },
          "metadata": {
            "tags": []
          },
          "execution_count": 33
        }
      ]
    },
    {
      "cell_type": "code",
      "metadata": {
        "id": "8zd2G8NpGuq7"
      },
      "source": [
        "# cross_val_predict() 함수를 사용해 훈련 세트에 있는 모든 샘플의 점수를 구한다\n",
        "y_scores = cross_val_predict(sgd_clf_8, X_train, y_train_8, cv=3,\n",
        "                             method=\"decision_function\")"
      ],
      "execution_count": null,
      "outputs": []
    },
    {
      "cell_type": "code",
      "metadata": {
        "id": "uTl8CauSG1Z_"
      },
      "source": [
        "# precision_recall_curve() 함수를 사용하여 가능한 모든 임곗값에 대해 정밀도와 재현율을 계산할 수 있다\n",
        "from sklearn.metrics import precision_recall_curve\n",
        "\n",
        "precisions, recalls, thresholds = precision_recall_curve(y_train_8, y_scores)"
      ],
      "execution_count": null,
      "outputs": []
    },
    {
      "cell_type": "code",
      "metadata": {
        "colab": {
          "base_uri": "https://localhost:8080/",
          "height": 265
        },
        "id": "mtYEGcFLHkyV",
        "outputId": "651c2dd1-80ca-4ffe-a5b4-f4f724f7fcf9"
      },
      "source": [
        "# 정밀도와 재현율 그림으로 보이기\n",
        "def plot_precision_recall_vs_threshold(precisions, recalls, thresholds):\n",
        "  plt.plot(thresholds, precisions[:-1], \"b--\", label=\"정밀도\") #blue를 점선으로 그려라\n",
        "  plt.plot(thresholds, recalls[:-1], \"g-\", label=\"재현율\") #green을 실선으로 그려라\n",
        "\n",
        "plot_precision_recall_vs_threshold(precisions, recalls, thresholds)\n",
        "plt.show()"
      ],
      "execution_count": null,
      "outputs": [
        {
          "output_type": "display_data",
          "data": {
            "image/png": "[encoded data removed]",
            "text/plain": [
              "<Figure size 432x288 with 1 Axes>"
            ]
          },
          "metadata": {
            "tags": [],
            "needs_background": "light"
          }
        }
      ]
    },
    {
      "cell_type": "code",
      "metadata": {
        "colab": {
          "base_uri": "https://localhost:8080/",
          "height": 265
        },
        "id": "yJNwoJ1DK4Q-",
        "outputId": "382ad7b0-c8c7-41d2-ed0a-4661b7cb483c"
      },
      "source": [
        "# 재현율에 대한 정밀도 곡선\n",
        "plt.plot(recalls, precisions)\n",
        "plt.show()"
      ],
      "execution_count": null,
      "outputs": [
        {
          "output_type": "display_data",
          "data": {
            "image/png": "[encoded data removed]",
            "text/plain": [
              "<Figure size 432x288 with 1 Axes>"
            ]
          },
          "metadata": {
            "tags": [],
            "needs_background": "light"
          }
        }
      ]
    },
    {
      "cell_type": "code",
      "metadata": {
        "id": "VtM1x1ycLKjE"
      },
      "source": [
        "# 최소 90%정밀도가 되는 가장 낮은 임계값 찾기\n",
        "threshold_90_precision =thresholds[np.argmax(precisions >= 0.90)]"
      ],
      "execution_count": null,
      "outputs": []
    },
    {
      "cell_type": "code",
      "metadata": {
        "id": "agSa0iVGLVEv"
      },
      "source": [
        "# 훈련 세트에 대한 예측\n",
        "y_train_pred_90 = (y_scores >= threshold_90_precision)"
      ],
      "execution_count": null,
      "outputs": []
    },
    {
      "cell_type": "code",
      "metadata": {
        "colab": {
          "base_uri": "https://localhost:8080/"
        },
        "id": "PoTb4v_bLdLU",
        "outputId": "41192934-178f-4231-c810-d1d5dc131ace"
      },
      "source": [
        "# 정밀도 예측\n",
        "precision_score(y_train_8, y_train_pred_90)"
      ],
      "execution_count": null,
      "outputs": [
        {
          "output_type": "execute_result",
          "data": {
            "text/plain": [
              "0.9003139717425431"
            ]
          },
          "metadata": {
            "tags": []
          },
          "execution_count": 40
        }
      ]
    },
    {
      "cell_type": "code",
      "metadata": {
        "colab": {
          "base_uri": "https://localhost:8080/"
        },
        "id": "IEguFSKjLmB6",
        "outputId": "62a60027-49b7-41a1-9407-30d2546097e3"
      },
      "source": [
        "# 재현율 예측\n",
        "recall_score(y_train_8, y_train_pred_90)"
      ],
      "execution_count": null,
      "outputs": [
        {
          "output_type": "execute_result",
          "data": {
            "text/plain": [
              "0.1960348658349"
            ]
          },
          "metadata": {
            "tags": []
          },
          "execution_count": 41
        }
      ]
    },
    {
      "cell_type": "markdown",
      "metadata": {
        "id": "f0aJprW1IK6X"
      },
      "source": [
        "### ROC 곡선"
      ]
    },
    {
      "cell_type": "code",
      "metadata": {
        "id": "VpT5pgT6JxN6"
      },
      "source": [
        "# roc_curve() 함수를 사용해 여러 임곗값에서 진짜 양성 비율(TPR)과 거짓 양성 비율(FPR)을 계산\n",
        "from sklearn.metrics import roc_curve\n",
        "\n",
        "fpr, tpr, thresholds = roc_curve(y_train_8, y_scores)"
      ],
      "execution_count": null,
      "outputs": []
    },
    {
      "cell_type": "code",
      "metadata": {
        "colab": {
          "base_uri": "https://localhost:8080/",
          "height": 265
        },
        "id": "p1SOl8jFIKjZ",
        "outputId": "05bdf1a9-de48-4e96-a05e-c65681df587b"
      },
      "source": [
        "# TPR에 대한 FPR 곡선 그리기\n",
        "def plot_roc_curve(fpr, tpr, label=None):\n",
        "    plt.plot(fpr, tpr, linewidth=2, label=label)\n",
        "    plt.plot([0, 1], [0, 1], 'k--')  # 대각 점선\n",
        "\n",
        "plot_roc_curve(fpr, tpr)\n",
        "plt.show()"
      ],
      "execution_count": null,
      "outputs": [
        {
          "output_type": "display_data",
          "data": {
            "image/png": "[encoded data removed]",
            "text/plain": [
              "<Figure size 432x288 with 1 Axes>"
            ]
          },
          "metadata": {
            "tags": [],
            "needs_background": "light"
          }
        }
      ]
    },
    {
      "cell_type": "code",
      "metadata": {
        "colab": {
          "base_uri": "https://localhost:8080/"
        },
        "id": "8Ae6p0HjIsbI",
        "outputId": "a34b84a4-0b9b-452c-9204-e758f81c3675"
      },
      "source": [
        "# 곡선 아래 면적(AUC) 측정\n",
        "from sklearn.metrics import roc_auc_score\n",
        "\n",
        "roc_auc_score(y_train_8, y_scores)"
      ],
      "execution_count": null,
      "outputs": [
        {
          "output_type": "execute_result",
          "data": {
            "text/plain": [
              "0.9127876136122361"
            ]
          },
          "metadata": {
            "tags": []
          },
          "execution_count": 44
        }
      ]
    },
    {
      "cell_type": "code",
      "metadata": {
        "id": "uK_nsszsI_Og"
      },
      "source": [
        "# RandomForestClassifier를 훈련시켜 SGDClassifier의 ROC 곡선과 ROC AUC 점수 비교하기\n",
        "from sklearn.ensemble import RandomForestClassifier\n",
        "\n",
        "forest_clf = RandomForestClassifier(random_state=42)\n",
        "y_probas_forest = cross_val_predict(forest_clf, X_train, y_train_8, cv=3,\n",
        "                                    method=\"predict_proba\")"
      ],
      "execution_count": null,
      "outputs": []
    },
    {
      "cell_type": "code",
      "metadata": {
        "id": "nOrUiXX_KQYA"
      },
      "source": [
        "# 양성 클래스 확률을 점수로 사용\n",
        "y_scores_forest = y_probas_forest[:, 1]\n",
        "fpr_forest, tpr_forest, thresholds_forest = roc_curve(y_train_8, y_scores_forest)"
      ],
      "execution_count": null,
      "outputs": []
    },
    {
      "cell_type": "code",
      "metadata": {
        "colab": {
          "base_uri": "https://localhost:8080/",
          "height": 265
        },
        "id": "nXmWCMI_LCl8",
        "outputId": "388590b2-f3a2-4f12-c7c2-ef07d78878c5"
      },
      "source": [
        "# ROC곡선 그리기\n",
        "plt.plot(fpr, tpr, \"b:\", label=\"SGD\")\n",
        "plot_roc_curve(fpr_forest, tpr_forest, \"random forest\")\n",
        "plt.legend(loc=\"lower right\")\n",
        "plt.show()"
      ],
      "execution_count": null,
      "outputs": [
        {
          "output_type": "display_data",
          "data": {
            "image/png": "[encoded data removed]",
            "text/plain": [
              "<Figure size 432x288 with 1 Axes>"
            ]
          },
          "metadata": {
            "tags": [],
            "needs_background": "light"
          }
        }
      ]
    },
    {
      "cell_type": "code",
      "metadata": {
        "colab": {
          "base_uri": "https://localhost:8080/"
        },
        "id": "P5Oxs74cMXi9",
        "outputId": "aa374357-e704-43b5-ab87-a6cfa09d304c"
      },
      "source": [
        "# 곡선 아래 면적(AUC) 측정\n",
        "roc_auc_score(y_train_8, y_scores_forest)"
      ],
      "execution_count": null,
      "outputs": [
        {
          "output_type": "execute_result",
          "data": {
            "text/plain": [
              "0.9965481456893603"
            ]
          },
          "metadata": {
            "tags": []
          },
          "execution_count": 48
        }
      ]
    },
    {
      "cell_type": "markdown",
      "metadata": {
        "id": "OlkKuzzxL-0D"
      },
      "source": [
        "## 다중 분류"
      ]
    },
    {
      "cell_type": "code",
      "metadata": {
        "colab": {
          "base_uri": "https://localhost:8080/"
        },
        "id": "Xyl_JVixMNXL",
        "outputId": "e5435d0f-fb1e-46c8-86bb-2f64aafa3826"
      },
      "source": [
        "# 서포트 벡터 머신 분류기 테스트\n",
        "from sklearn.svm import SVC\n",
        "svm_clf = SVC()\n",
        "svm_clf.fit(X_train[:1000], y_train[:1000])\n",
        "svm_clf.predict([some_digit])"
      ],
      "execution_count": null,
      "outputs": [
        {
          "output_type": "execute_result",
          "data": {
            "text/plain": [
              "array([8], dtype=uint8)"
            ]
          },
          "metadata": {
            "tags": []
          },
          "execution_count": 49
        }
      ]
    },
    {
      "cell_type": "code",
      "metadata": {
        "colab": {
          "base_uri": "https://localhost:8080/"
        },
        "id": "uGxswM12M9vq",
        "outputId": "54da1d05-0524-4e09-c080-7b30df86bdfe"
      },
      "source": [
        "# decision_function()메서드를 호출하면 샘플당 10개의 점수를 반환한다(클래스당 하나)\n",
        "some_digit_scores = svm_clf.decision_function([some_digit])\n",
        "some_digit_scores"
      ],
      "execution_count": null,
      "outputs": [
        {
          "output_type": "execute_result",
          "data": {
            "text/plain": [
              "array([[ 0.72391321,  2.78359448,  3.89068228,  8.20284806,  1.74882031,\n",
              "         6.1645681 , -0.28176804,  4.80286464,  9.3087424 ,  7.22389473]])"
            ]
          },
          "metadata": {
            "tags": []
          },
          "execution_count": 50
        }
      ]
    },
    {
      "cell_type": "code",
      "metadata": {
        "colab": {
          "base_uri": "https://localhost:8080/"
        },
        "id": "eyW8OBcaN7HR",
        "outputId": "4464900f-d278-4700-bf38-d426fe0f657c"
      },
      "source": [
        "np.argmax(some_digit_scores)"
      ],
      "execution_count": null,
      "outputs": [
        {
          "output_type": "execute_result",
          "data": {
            "text/plain": [
              "8"
            ]
          },
          "metadata": {
            "tags": []
          },
          "execution_count": 51
        }
      ]
    },
    {
      "cell_type": "code",
      "metadata": {
        "colab": {
          "base_uri": "https://localhost:8080/"
        },
        "id": "wnQVW6ryO_HF",
        "outputId": "5c0841cf-78bd-4261-f132-012388b2e6a1"
      },
      "source": [
        "svm_clf.classes_"
      ],
      "execution_count": null,
      "outputs": [
        {
          "output_type": "execute_result",
          "data": {
            "text/plain": [
              "array([0, 1, 2, 3, 4, 5, 6, 7, 8, 9], dtype=uint8)"
            ]
          },
          "metadata": {
            "tags": []
          },
          "execution_count": 52
        }
      ]
    },
    {
      "cell_type": "code",
      "metadata": {
        "colab": {
          "base_uri": "https://localhost:8080/"
        },
        "id": "84VaFh4wPCfJ",
        "outputId": "56302672-7d77-4a8b-f5ca-2ee7139692ef"
      },
      "source": [
        "svm_clf.classes_[8]"
      ],
      "execution_count": null,
      "outputs": [
        {
          "output_type": "execute_result",
          "data": {
            "text/plain": [
              "8"
            ]
          },
          "metadata": {
            "tags": []
          },
          "execution_count": 53
        }
      ]
    },
    {
      "cell_type": "code",
      "metadata": {
        "id": "aRSZlsFSONtP",
        "colab": {
          "base_uri": "https://localhost:8080/"
        },
        "outputId": "dda0b732-fc6c-4b93-850d-5a590cbac1fb"
      },
      "source": [
        "# SVC 기반으로 OvR전략을 사용하는 다중 분류기\n",
        "from sklearn.multiclass import OneVsRestClassifier\n",
        "ovr_clf = OneVsRestClassifier(SVC())\n",
        "ovr_clf.fit(X_train[:1000], y_train[:1000])\n",
        "ovr_clf.predict([some_digit])"
      ],
      "execution_count": null,
      "outputs": [
        {
          "output_type": "execute_result",
          "data": {
            "text/plain": [
              "array([8], dtype=uint8)"
            ]
          },
          "metadata": {
            "tags": []
          },
          "execution_count": 54
        }
      ]
    },
    {
      "cell_type": "code",
      "metadata": {
        "id": "eJUjKzX9OtQL",
        "colab": {
          "base_uri": "https://localhost:8080/"
        },
        "outputId": "69158e23-95fc-4f88-a7f9-681a364c0189"
      },
      "source": [
        "len(ovr_clf.estimators_)"
      ],
      "execution_count": null,
      "outputs": [
        {
          "output_type": "execute_result",
          "data": {
            "text/plain": [
              "10"
            ]
          },
          "metadata": {
            "tags": []
          },
          "execution_count": 55
        }
      ]
    },
    {
      "cell_type": "code",
      "metadata": {
        "id": "0XRbPeEqPRU3",
        "colab": {
          "base_uri": "https://localhost:8080/"
        },
        "outputId": "e6357fa8-ba0a-4f11-9090-5691321a575f"
      },
      "source": [
        "# SGDClassifier 훈련\n",
        "sgd_clf_8.fit(X_train, y_train)\n",
        "sgd_clf_8.predict([some_digit])"
      ],
      "execution_count": null,
      "outputs": [
        {
          "output_type": "execute_result",
          "data": {
            "text/plain": [
              "array([8], dtype=uint8)"
            ]
          },
          "metadata": {
            "tags": []
          },
          "execution_count": 58
        }
      ]
    },
    {
      "cell_type": "code",
      "metadata": {
        "id": "UbmNel8ZQI9J",
        "colab": {
          "base_uri": "https://localhost:8080/"
        },
        "outputId": "3afd981a-6119-4f8f-9476-59dd4a624872"
      },
      "source": [
        "# SGD 분류기가 클래스마다 부여한 점수를 확인\n",
        "sgd_clf_8.decision_function([some_digit])"
      ],
      "execution_count": null,
      "outputs": [
        {
          "output_type": "execute_result",
          "data": {
            "text/plain": [
              "array([[-27862.93468932, -16161.89359274, -12383.06646425,\n",
              "         -4263.63634827, -11157.48870299,  -7601.9790338 ,\n",
              "        -29239.74495338, -12483.15698726,   2245.32260506,\n",
              "         -3340.84478032]])"
            ]
          },
          "metadata": {
            "tags": []
          },
          "execution_count": 59
        }
      ]
    },
    {
      "cell_type": "code",
      "metadata": {
        "id": "f5HNPusyQYCG",
        "colab": {
          "base_uri": "https://localhost:8080/"
        },
        "outputId": "fd9c87f6-da6a-495a-f336-f53e68d7ae91"
      },
      "source": [
        "# SGDClassifier의 정확도 평가\n",
        "cross_val_score(sgd_clf_8, X_train, y_train, cv=3, scoring=\"accuracy\")"
      ],
      "execution_count": null,
      "outputs": [
        {
          "output_type": "execute_result",
          "data": {
            "text/plain": [
              "array([0.87735, 0.8802 , 0.8843 ])"
            ]
          },
          "metadata": {
            "tags": []
          },
          "execution_count": 60
        }
      ]
    },
    {
      "cell_type": "code",
      "metadata": {
        "id": "Wa_7vwuwQqIk",
        "colab": {
          "base_uri": "https://localhost:8080/"
        },
        "outputId": "78595eb1-6900-47e9-bfce-b25559811532"
      },
      "source": [
        "# 입력 스케일을 조정하여 정확도 높이기\n",
        "from sklearn.preprocessing import StandardScaler\n",
        "scaler = StandardScaler()\n",
        "X_train_scaled = scaler.fit_transform(X_train.astype(np.float64))\n",
        "cross_val_score(sgd_clf_8, X_train_scaled, y_train, cv=3, scoring=\"accuracy\")"
      ],
      "execution_count": null,
      "outputs": [
        {
          "output_type": "stream",
          "text": [
            "/usr/local/lib/python3.7/dist-packages/sklearn/linear_model/_stochastic_gradient.py:557: ConvergenceWarning: Maximum number of iteration reached before convergence. Consider increasing max_iter to improve the fit.\n",
            "  ConvergenceWarning)\n",
            "/usr/local/lib/python3.7/dist-packages/sklearn/linear_model/_stochastic_gradient.py:557: ConvergenceWarning: Maximum number of iteration reached before convergence. Consider increasing max_iter to improve the fit.\n",
            "  ConvergenceWarning)\n"
          ],
          "name": "stderr"
        },
        {
          "output_type": "execute_result",
          "data": {
            "text/plain": [
              "array([0.90305, 0.89575, 0.90435])"
            ]
          },
          "metadata": {
            "tags": []
          },
          "execution_count": 62
        }
      ]
    },
    {
      "cell_type": "markdown",
      "metadata": {
        "id": "eQ1pz5mDRX8T"
      },
      "source": [
        "## 에러 분석"
      ]
    },
    {
      "cell_type": "code",
      "metadata": {
        "id": "V1oHMBW9Rglu",
        "colab": {
          "base_uri": "https://localhost:8080/"
        },
        "outputId": "d8c4362d-f0a1-4b6e-dbaf-d7de5651ba01"
      },
      "source": [
        "y_train_pred = cross_val_predict(sgd_clf_8, X_train_scaled, y_train, cv=3)\n",
        "conf_mx = confusion_matrix(y_train, y_train_pred)\n",
        "conf_mx"
      ],
      "execution_count": null,
      "outputs": [
        {
          "output_type": "stream",
          "text": [
            "/usr/local/lib/python3.7/dist-packages/sklearn/linear_model/_stochastic_gradient.py:557: ConvergenceWarning: Maximum number of iteration reached before convergence. Consider increasing max_iter to improve the fit.\n",
            "  ConvergenceWarning)\n",
            "/usr/local/lib/python3.7/dist-packages/sklearn/linear_model/_stochastic_gradient.py:557: ConvergenceWarning: Maximum number of iteration reached before convergence. Consider increasing max_iter to improve the fit.\n",
            "  ConvergenceWarning)\n"
          ],
          "name": "stderr"
        },
        {
          "output_type": "execute_result",
          "data": {
            "text/plain": [
              "array([[5598,    0,   25,    7,    9,   51,   36,    6,  190,    1],\n",
              "       [   0, 6415,   40,   25,    5,   45,    4,    8,  189,   11],\n",
              "       [  28,   27, 5268,   96,   72,   27,   69,   40,  320,   11],\n",
              "       [  24,   19,  124, 5245,    2,  224,   27,   42,  349,   75],\n",
              "       [  12,   14,   52,   11, 5218,   11,   35,   26,  293,  170],\n",
              "       [  30,   17,   36,  177,   56, 4494,   74,   17,  456,   64],\n",
              "       [  29,   16,   46,    2,   43,   99, 5563,    3,  116,    1],\n",
              "       [  20,   10,   54,   32,   52,   12,    3, 5713,  156,  213],\n",
              "       [  19,   69,   47,   92,    4,  138,   25,   10, 5399,   48],\n",
              "       [  24,   19,   32,   69,  118,   37,    1,  182,  317, 5150]])"
            ]
          },
          "metadata": {
            "tags": []
          },
          "execution_count": 63
        }
      ]
    },
    {
      "cell_type": "code",
      "metadata": {
        "colab": {
          "base_uri": "https://localhost:8080/",
          "height": 275
        },
        "id": "2Mcfqiz_SfIm",
        "outputId": "f105d70a-cc94-45ff-f3d2-9fd6bb65732f"
      },
      "source": [
        "# 오차 행렬을 이미지로 출력\n",
        "plt.matshow(conf_mx, cmap=plt.cm.gray)\n",
        "plt.show()"
      ],
      "execution_count": null,
      "outputs": [
        {
          "output_type": "display_data",
          "data": {
            "image/png": "[encoded data removed]",
            "text/plain": [
              "<Figure size 288x288 with 1 Axes>"
            ]
          },
          "metadata": {
            "tags": [],
            "needs_background": "light"
          }
        }
      ]
    },
    {
      "cell_type": "code",
      "metadata": {
        "id": "ceFQ2uPISu-C"
      },
      "source": [
        "# 오차 행렬의 각 값을 대응되는 클래스의 이미지 개수로 나눈다\n",
        "row_sums = conf_mx.sum(axis=1, keepdims=True)\n",
        "norm_conf_mx = conf_mx / row_sums"
      ],
      "execution_count": null,
      "outputs": []
    },
    {
      "cell_type": "code",
      "metadata": {
        "colab": {
          "base_uri": "https://localhost:8080/",
          "height": 275
        },
        "id": "G0eU5wXJTYUE",
        "outputId": "4f77e9bc-152d-4a98-be1f-af4d50aac05f"
      },
      "source": [
        "# 그래프화\n",
        "np.fill_diagonal(norm_conf_mx, 0)\n",
        "plt.matshow(norm_conf_mx, cmap=plt.cm.gray)\n",
        "plt.show()"
      ],
      "execution_count": null,
      "outputs": [
        {
          "output_type": "display_data",
          "data": {
            "image/png": "[encoded data removed]",
            "text/plain": [
              "<Figure size 288x288 with 1 Axes>"
            ]
          },
          "metadata": {
            "tags": [],
            "needs_background": "light"
          }
        }
      ]
    },
    {
      "cell_type": "code",
      "metadata": {
        "id": "FcCEWN8Gbisa"
      },
      "source": [
        "def plot_digits(instances, images_per_row=10, **options):\n",
        "    size = 28\n",
        "    images_per_row = min(len(instances), images_per_row)\n",
        "    images = [instance.reshape(size,size) for instance in instances]\n",
        "    n_rows = (len(instances) - 1) // images_per_row + 1\n",
        "    row_images = []\n",
        "    n_empty = n_rows * images_per_row - len(instances)\n",
        "    images.append(np.zeros((size, size * n_empty)))\n",
        "    for row in range(n_rows):\n",
        "        rimages = images[row * images_per_row : (row + 1) * images_per_row]\n",
        "        row_images.append(np.concatenate(rimages, axis=1))\n",
        "    image = np.concatenate(row_images, axis=0)\n",
        "    plt.imshow(image, cmap = mpl.cm.binary, **options)\n",
        "    plt.axis(\"off\")"
      ],
      "execution_count": null,
      "outputs": []
    },
    {
      "cell_type": "code",
      "metadata": {
        "colab": {
          "base_uri": "https://localhost:8080/",
          "height": 466
        },
        "id": "Y6wM5vQfTiMg",
        "outputId": "29564aca-d694-450a-8dfa-4467b56eb2a8"
      },
      "source": [
        "# 에러 분석\n",
        "cl_a, cl_b = 3, 8\n",
        "X_aa = X_train[(y_train == cl_a) & (y_train_pred == cl_a)]\n",
        "X_ab = X_train[(y_train == cl_a) & (y_train_pred == cl_b)]\n",
        "X_ba = X_train[(y_train == cl_b) & (y_train_pred == cl_a)]\n",
        "X_bb = X_train[(y_train == cl_b) & (y_train_pred == cl_b)]\n",
        "\n",
        "plt.figure(figsize=(8,8))\n",
        "plt.subplot(221); plot_digits(X_aa[:25], images_per_row=5)\n",
        "plt.subplot(222); plot_digits(X_ab[:25], images_per_row=5)\n",
        "plt.subplot(223); plot_digits(X_ba[:25], images_per_row=5)\n",
        "plt.subplot(224); plot_digits(X_bb[:25], images_per_row=5)\n",
        "plt.show()"
      ],
      "execution_count": null,
      "outputs": [
        {
          "output_type": "display_data",
          "data": {
            "image/png": "[encoded data removed]",
            "text/plain": [
              "<Figure size 576x576 with 4 Axes>"
            ]
          },
          "metadata": {
            "tags": [],
            "needs_background": "light"
          }
        }
      ]
    }
  ]
}