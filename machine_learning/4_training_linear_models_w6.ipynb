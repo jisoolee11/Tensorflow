{
  "nbformat": 4,
  "nbformat_minor": 0,
  "metadata": {
    "colab": {
      "name": "4.training_linear_models_w6.ipynb",
      "provenance": [],
      "collapsed_sections": [],
      "authorship_tag": "ABX9TyORZN9x3Yn8EzaLZCn/VRhh",
      "include_colab_link": true
    },
    "kernelspec": {
      "name": "python3",
      "display_name": "Python 3"
    },
    "language_info": {
      "name": "python"
    }
  },
  "cells": [
    {
      "cell_type": "markdown",
      "metadata": {
        "id": "view-in-github",
        "colab_type": "text"
      },
      "source": [
        "<a href=\"https://colab.research.google.com/github/jisoolee11/Tensorflow/blob/main/machine_learning/4_training_linear_models_w6.ipynb\" target=\"_parent\"><img src=\"https://colab.research.google.com/assets/colab-badge.svg\" alt=\"Open In Colab\"/></a>"
      ]
    },
    {
      "cell_type": "markdown",
      "metadata": {
        "id": "uqu9YK-gBuLL"
      },
      "source": [
        "# CHAPTER 4.모델 훈련"
      ]
    },
    {
      "cell_type": "markdown",
      "metadata": {
        "id": "P321LI7I-3hN"
      },
      "source": [
        "## 선형 회귀"
      ]
    },
    {
      "cell_type": "markdown",
      "metadata": {
        "id": "fo2QmhWKGh02"
      },
      "source": [
        "### 정규 방정식"
      ]
    },
    {
      "cell_type": "code",
      "metadata": {
        "id": "oe1Sm4YfGmE1"
      },
      "source": [
        "# 정규방정식을 테스트하기 위한 선형 데이터 생성\n",
        "import numpy as np\n",
        "\n",
        "X = 2 * np.random.rand(100, 1)\n",
        "y = 4 + 3 * X + np.random.randn(100, 1) "
      ],
      "execution_count": null,
      "outputs": []
    },
    {
      "cell_type": "code",
      "metadata": {
        "colab": {
          "base_uri": "https://localhost:8080/"
        },
        "id": "l6kcwbZpHKBc",
        "outputId": "87b49a14-4e89-4e02-a742-df981cacde36"
      },
      "source": [
        "# inv()함수: 역행렬 계산, dot()메서드: 행렬 곱셈\n",
        "X_b = np.c_[np.ones((100, 1)), X] # 모든 샘플에 x0 = 1을 추가\n",
        "theta_best = np.linalg.inv(X_b.T.dot(X_b)).dot(X_b.T).dot(y)  # 정규 방정식\n",
        "theta_best # 정규방정식으로 계산한 값 확인"
      ],
      "execution_count": null,
      "outputs": [
        {
          "output_type": "execute_result",
          "data": {
            "text/plain": [
              "array([[4.10481097],\n",
              "       [3.01303506]])"
            ]
          },
          "metadata": {
            "tags": []
          },
          "execution_count": 2
        }
      ]
    },
    {
      "cell_type": "code",
      "metadata": {
        "colab": {
          "base_uri": "https://localhost:8080/"
        },
        "id": "bbAbN7v5IJVx",
        "outputId": "563cf7a6-1466-4dc5-a7b0-b55d654d4375"
      },
      "source": [
        "# 비용함수를 최소화하는 세타값(세타 햇)을 사용해  예측\n",
        "X_new = np.array([[0], [2]])\n",
        "X_new_b = np.c_[np.ones((2, 1)), X_new] # 모든 샘플에 x0 = 1을 추가\n",
        "y_predict = X_new_b.dot(theta_best)\n",
        "y_predict"
      ],
      "execution_count": null,
      "outputs": [
        {
          "output_type": "execute_result",
          "data": {
            "text/plain": [
              "array([[ 4.10481097],\n",
              "       [10.1308811 ]])"
            ]
          },
          "metadata": {
            "tags": []
          },
          "execution_count": 3
        }
      ]
    },
    {
      "cell_type": "code",
      "metadata": {
        "colab": {
          "base_uri": "https://localhost:8080/",
          "height": 265
        },
        "id": "pN_VKER0I1ZD",
        "outputId": "73bf8961-fc1e-4af5-d97c-5901ece6d464"
      },
      "source": [
        "# 그래프 그리기\n",
        "import matplotlib.pyplot as plt\n",
        "\n",
        "plt.plot(X_new, y_predict, \"r-\")\n",
        "plt.plot(X, y, \"b.\")\n",
        "plt.axis([0, 2, 0, 15])\n",
        "plt.show()"
      ],
      "execution_count": null,
      "outputs": [
        {
          "output_type": "display_data",
          "data": {
            "image/png": "[encoded data removed]",
            "text/plain": [
              "<Figure size 432x288 with 1 Axes>"
            ]
          },
          "metadata": {
            "tags": [],
            "needs_background": "light"
          }
        }
      ]
    },
    {
      "cell_type": "code",
      "metadata": {
        "colab": {
          "base_uri": "https://localhost:8080/"
        },
        "id": "OAwjlQHuJnp-",
        "outputId": "be1fc9e2-08ac-41e9-b959-f9e4102c5696"
      },
      "source": [
        "# sklearn을 이용한 선형 회귀\n",
        "# 좀 더 빠르고 간단하다\n",
        "from sklearn.linear_model import LinearRegression\n",
        "\n",
        "lin_reg = LinearRegression()\n",
        "lin_reg.fit(X, y)\n",
        "lin_reg.intercept_, lin_reg.coef_"
      ],
      "execution_count": null,
      "outputs": [
        {
          "output_type": "execute_result",
          "data": {
            "text/plain": [
              "(array([4.10481097]), array([[3.01303506]]))"
            ]
          },
          "metadata": {
            "tags": []
          },
          "execution_count": 5
        }
      ]
    },
    {
      "cell_type": "code",
      "metadata": {
        "colab": {
          "base_uri": "https://localhost:8080/"
        },
        "id": "zYBYTTDCKCkA",
        "outputId": "226f02ab-e6a8-4ecc-cfac-2dc3968a5766"
      },
      "source": [
        "lin_reg.predict(X_new)"
      ],
      "execution_count": null,
      "outputs": [
        {
          "output_type": "execute_result",
          "data": {
            "text/plain": [
              "array([[ 4.10481097],\n",
              "       [10.1308811 ]])"
            ]
          },
          "metadata": {
            "tags": []
          },
          "execution_count": 6
        }
      ]
    },
    {
      "cell_type": "code",
      "metadata": {
        "colab": {
          "base_uri": "https://localhost:8080/"
        },
        "id": "N_2iM6ojKP7S",
        "outputId": "c4c44f38-d352-466f-85a3-33416148abec"
      },
      "source": [
        "# scipy.linalg.lstsq()함수(최소 제곱) 호출\n",
        "theta_best_svd, residuals, rank, s = np.linalg.lstsq(X_b, y, rcond=1e-6)\n",
        "theta_best_svd"
      ],
      "execution_count": null,
      "outputs": [
        {
          "output_type": "execute_result",
          "data": {
            "text/plain": [
              "array([[4.10481097],\n",
              "       [3.01303506]])"
            ]
          },
          "metadata": {
            "tags": []
          },
          "execution_count": 7
        }
      ]
    },
    {
      "cell_type": "code",
      "metadata": {
        "colab": {
          "base_uri": "https://localhost:8080/"
        },
        "id": "TFd1n0S0Kp0f",
        "outputId": "51dd3702-391a-4def-a49a-475318aec9e1"
      },
      "source": [
        "# np.linalg.pinv()함수를 사용해 유사역행렬 구하기\n",
        "np.linalg.pinv(X_b).dot(y)"
      ],
      "execution_count": null,
      "outputs": [
        {
          "output_type": "execute_result",
          "data": {
            "text/plain": [
              "array([[4.10481097],\n",
              "       [3.01303506]])"
            ]
          },
          "metadata": {
            "tags": []
          },
          "execution_count": 8
        }
      ]
    },
    {
      "cell_type": "markdown",
      "metadata": {
        "id": "ZVkDF4NuLI9d"
      },
      "source": [
        "## 경사 하강법"
      ]
    },
    {
      "cell_type": "markdown",
      "metadata": {
        "id": "tWSAiQfSLQNb"
      },
      "source": [
        "### 배치 경사 하강법"
      ]
    },
    {
      "cell_type": "code",
      "metadata": {
        "id": "QL4Q1IYGL0kB"
      },
      "source": [
        "# 내려가는 스텝의 크기를 결정하기 위해 그레이디언트 벡터에 학습률을 곱한다\n",
        "eta = 0.1 # 학습률\n",
        "n_iterations = 1000\n",
        "m = 100\n",
        "\n",
        "theta = np.random.randn(2, 1) # 무작위 초기화\n",
        "\n",
        "for iteration in range(n_iterations):\n",
        "    gradients = 2/m * X_b.T.dot(X_b.dot(theta) - y)\n",
        "    theta = theta - eta * gradients"
      ],
      "execution_count": null,
      "outputs": []
    },
    {
      "cell_type": "code",
      "metadata": {
        "colab": {
          "base_uri": "https://localhost:8080/"
        },
        "id": "64PpOkr9MXbL",
        "outputId": "6d06b45a-5557-4b0d-f88c-2d84b0867a50"
      },
      "source": [
        "theta"
      ],
      "execution_count": null,
      "outputs": [
        {
          "output_type": "execute_result",
          "data": {
            "text/plain": [
              "array([[4.10481097],\n",
              "       [3.01303506]])"
            ]
          },
          "metadata": {
            "tags": []
          },
          "execution_count": 10
        }
      ]
    },
    {
      "cell_type": "markdown",
      "metadata": {
        "id": "86fUb4YPMZoM"
      },
      "source": [
        "### 확률적 경사 하강법"
      ]
    },
    {
      "cell_type": "code",
      "metadata": {
        "id": "_GFF_wAgOd4f"
      },
      "source": [
        "# 간단한 학습 스케줄을 사용한 확률적 경사 하강법 구현\n",
        "n_epochs = 50\n",
        "t0, t1 = 5, 50 # 학습 스케줄 하이퍼파라미터\n",
        "\n",
        "def learning_schedule(t):\n",
        "    return t0 / (t + t1)\n",
        "\n",
        "theta = np.random.randn(2, 1) # 무작위 초기화\n",
        "\n",
        "for epoch in range(n_epochs): # 1epoch: 트레이닝 데이터를 한 번 본다. \n",
        "    for i in range(m): # m: 트레이닝 데이터의 갯수\n",
        "        random_index = np.random.randint(m)\n",
        "        xi = X_b[random_index:random_index+1]\n",
        "        yi = y[random_index:random_index+1]\n",
        "        gradients = 2 *xi.T.dot(xi.dot(theta) - yi)\n",
        "        eta = learning_schedule(epoch * m + i) # eta를 함수로 가져온다\n",
        "        theta = theta - eta * gradients # 새로운 세타 계산"
      ],
      "execution_count": null,
      "outputs": []
    },
    {
      "cell_type": "code",
      "metadata": {
        "colab": {
          "base_uri": "https://localhost:8080/"
        },
        "id": "wZkSwbyJPqaz",
        "outputId": "52fbd842-19b2-4dc9-b827-beb64bff349b"
      },
      "source": [
        "theta"
      ],
      "execution_count": null,
      "outputs": [
        {
          "output_type": "execute_result",
          "data": {
            "text/plain": [
              "array([[4.0521244 ],\n",
              "       [2.93175126]])"
            ]
          },
          "metadata": {
            "tags": []
          },
          "execution_count": 12
        }
      ]
    },
    {
      "cell_type": "code",
      "metadata": {
        "colab": {
          "base_uri": "https://localhost:8080/"
        },
        "id": "rAzd830RPtzE",
        "outputId": "a5963cb9-a4c5-43f0-f89a-147018585baf"
      },
      "source": [
        "# sklearn의 SGDGegressor 클래스 사용: 기본값으로 제곱 오차 비용 함수를 최적화\n",
        "from sklearn.linear_model import SGDRegressor\n",
        "sgd_reg = SGDRegressor(max_iter=1000, tol=1e-3, penalty=None, eta0=0.1)\n",
        "# 최대 1000번 에포크 동안 실행, 한 에포크에서 0.001보타 적게 손실이 줄어들 때까지 실행, 학습률 0.1 규제 사용하지 않음\n",
        "sgd_reg.fit(X, y.ravel())\n",
        "sgd_reg.intercept_, sgd_reg.coef_"
      ],
      "execution_count": null,
      "outputs": [
        {
          "output_type": "execute_result",
          "data": {
            "text/plain": [
              "(array([4.07970748]), array([3.00936228]))"
            ]
          },
          "metadata": {
            "tags": []
          },
          "execution_count": 13
        }
      ]
    },
    {
      "cell_type": "markdown",
      "metadata": {
        "id": "gC1rXYLNSGa_"
      },
      "source": [
        "## 다항 회귀"
      ]
    },
    {
      "cell_type": "code",
      "metadata": {
        "id": "Ouzx_AZoSjqW"
      },
      "source": [
        "import numpy.random as rnd\n",
        "\n",
        "# 랜덤값 고정\n",
        "np.random.seed(42)"
      ],
      "execution_count": null,
      "outputs": []
    },
    {
      "cell_type": "code",
      "metadata": {
        "id": "k4Xz9L-4SU9Y"
      },
      "source": [
        "# 간단한 2차방정식으로 비선형 데이터 생성\n",
        "m = 100\n",
        "X = 6 *np.random.rand(m, 1) - 3\n",
        "y = 0.5 * X**2 + X + 2 + np.random.randn(m, 1)"
      ],
      "execution_count": null,
      "outputs": []
    },
    {
      "cell_type": "code",
      "metadata": {
        "colab": {
          "base_uri": "https://localhost:8080/"
        },
        "id": "MySncxsIS1JF",
        "outputId": "8f215774-6003-41a0-b3fa-e7f3d5456743"
      },
      "source": [
        "# sklearn의 PolynomialFeatures를 사용해 훈련 데이터를 변환\n",
        "from sklearn.preprocessing import PolynomialFeatures\n",
        "poly_features = PolynomialFeatures(degree=2, include_bias=False)\n",
        "X_poly = poly_features.fit_transform(X)\n",
        "X[0]"
      ],
      "execution_count": null,
      "outputs": [
        {
          "output_type": "execute_result",
          "data": {
            "text/plain": [
              "array([-0.75275929])"
            ]
          },
          "metadata": {
            "tags": []
          },
          "execution_count": 16
        }
      ]
    },
    {
      "cell_type": "code",
      "metadata": {
        "colab": {
          "base_uri": "https://localhost:8080/"
        },
        "id": "5v32iqkwTWTS",
        "outputId": "84cd71c0-c886-4fa4-d7d2-14d3c880b28e"
      },
      "source": [
        "X_poly[0]"
      ],
      "execution_count": null,
      "outputs": [
        {
          "output_type": "execute_result",
          "data": {
            "text/plain": [
              "array([-0.75275929,  0.56664654])"
            ]
          },
          "metadata": {
            "tags": []
          },
          "execution_count": 17
        }
      ]
    },
    {
      "cell_type": "code",
      "metadata": {
        "colab": {
          "base_uri": "https://localhost:8080/"
        },
        "id": "wmv4-Ai9TeMa",
        "outputId": "aed5cb7c-e361-4cdd-eb01-9d4ffe345970"
      },
      "source": [
        "# LinearRegression 적용해보기\n",
        "lin_reg = LinearRegression()\n",
        "lin_reg.fit(X_poly, y)\n",
        "lin_reg.intercept_, lin_reg.coef_"
      ],
      "execution_count": null,
      "outputs": [
        {
          "output_type": "execute_result",
          "data": {
            "text/plain": [
              "(array([1.78134581]), array([[0.93366893, 0.56456263]]))"
            ]
          },
          "metadata": {
            "tags": []
          },
          "execution_count": 18
        }
      ]
    },
    {
      "cell_type": "markdown",
      "metadata": {
        "id": "5Mnk5vua_F_Y"
      },
      "source": [
        "## 학습 곡선"
      ]
    },
    {
      "cell_type": "code",
      "metadata": {
        "id": "Jh8FAV1X_ORQ"
      },
      "source": [
        "# 훈련 데이터에서 모델의 학습 곡선을 그리는 함수 정의 \n",
        "from sklearn.metrics import mean_squared_error\n",
        "from sklearn.model_selection import train_test_split\n",
        "\n",
        "def plot_learning_curves(model, X, y):\n",
        "    X_train, X_val, y_train, y_val = train_test_split(X, y, test_size=0.2, random_state=10)\n",
        "    train_errors, val_errors = [], []\n",
        "    for m in range(1, len(X_train)):\n",
        "        model.fit(X_train[:m], y_train[:m])\n",
        "        y_train_predict = model.predict(X_train[:m])\n",
        "        y_val_predict = model.predict(X_val)\n",
        "        train_errors.append(mean_squared_error(y_train[:m], y_train_predict))\n",
        "        val_errors.append(mean_squared_error(y_val, y_val_predict))\n",
        "    plt.plot(np.sqrt(train_errors), \"r-+\", linewidth=2, label=\"train_set\")\n",
        "    plt.plot(np.sqrt(val_errors), \"b-\", linewidth=3, label=\"val_set\")"
      ],
      "execution_count": null,
      "outputs": []
    },
    {
      "cell_type": "code",
      "metadata": {
        "colab": {
          "base_uri": "https://localhost:8080/",
          "height": 269
        },
        "id": "e-ZsVb_gfmt0",
        "outputId": "2c35c40c-f75b-4161-b84f-537b80e84e63"
      },
      "source": [
        "# 단순 선형 회구 모델의 학습 곡선\n",
        "lin_reg = LinearRegression()\n",
        "plot_learning_curves(lin_reg, X, y)"
      ],
      "execution_count": null,
      "outputs": [
        {
          "output_type": "display_data",
          "data": {
            "image/png": "[encoded data removed]",
            "text/plain": [
              "<Figure size 432x288 with 1 Axes>"
            ]
          },
          "metadata": {
            "tags": [],
            "needs_background": "light"
          }
        }
      ]
    },
    {
      "cell_type": "code",
      "metadata": {
        "colab": {
          "base_uri": "https://localhost:8080/",
          "height": 269
        },
        "id": "KsgLuEEMf4fI",
        "outputId": "13cd7cd3-4c1b-4e4f-b6ca-575f80547ec0"
      },
      "source": [
        "# 같은 데이터에서 10차 다항 회귀 모델의 학습 곡선 그리기\n",
        "from sklearn.pipeline import Pipeline\n",
        "\n",
        "polynomial_regression = Pipeline([\n",
        "    (\"Poly_features\", PolynomialFeatures(degree=10, include_bias=False)),\n",
        "    (\"lin_reg\", LinearRegression()),\n",
        "])\n",
        "\n",
        "plot_learning_curves(polynomial_regression, X, y)\n",
        "plt.axis([0, 80, 0, 3])\n",
        "plt.show()   "
      ],
      "execution_count": null,
      "outputs": [
        {
          "output_type": "display_data",
          "data": {
            "image/png": "[encoded data removed]",
            "text/plain": [
              "<Figure size 432x288 with 1 Axes>"
            ]
          },
          "metadata": {
            "tags": [],
            "needs_background": "light"
          }
        }
      ]
    },
    {
      "cell_type": "markdown",
      "metadata": {
        "id": "6mVoRS6nD33z"
      },
      "source": [
        "## 규제가 있는 선형 모델"
      ]
    },
    {
      "cell_type": "markdown",
      "metadata": {
        "id": "1BKYg8TdD7LW"
      },
      "source": [
        "### 릿지 회귀"
      ]
    },
    {
      "cell_type": "code",
      "metadata": {
        "id": "vdNkgdZ9JZ2w",
        "colab": {
          "base_uri": "https://localhost:8080/"
        },
        "outputId": "e24292e1-d0e1-4369-ee87-91b556b546d9"
      },
      "source": [
        "# 사이킷런에서 정규방정식을 사용한 릿지 회귀를 적용\n",
        "# 규제가  추가된 선형 회귀 버전\n",
        "from sklearn.linear_model import Ridge\n",
        "ridge_reg = Ridge(alpha=1, solver=\"cholesky\")\n",
        "ridge_reg.fit(X, y)\n",
        "ridge_reg.predict([[1.5]])"
      ],
      "execution_count": null,
      "outputs": [
        {
          "output_type": "execute_result",
          "data": {
            "text/plain": [
              "array([[4.82497007]])"
            ]
          },
          "metadata": {
            "tags": []
          },
          "execution_count": 22
        }
      ]
    },
    {
      "cell_type": "code",
      "metadata": {
        "colab": {
          "base_uri": "https://localhost:8080/"
        },
        "id": "-Zbi2i7khM47",
        "outputId": "7b2ec9f1-179a-47b9-c897-d9bb2a849db2"
      },
      "source": [
        "# 확률적 경사 하강법\n",
        "sgd_reg = SGDRegressor(penalty=\"l2\")\n",
        "sgd_reg.fit(X, y.ravel())\n",
        "sgd_reg.predict([[1.5]])"
      ],
      "execution_count": null,
      "outputs": [
        {
          "output_type": "execute_result",
          "data": {
            "text/plain": [
              "array([4.80078479])"
            ]
          },
          "metadata": {
            "tags": []
          },
          "execution_count": 23
        }
      ]
    },
    {
      "cell_type": "markdown",
      "metadata": {
        "id": "EZusu0OCHEdE"
      },
      "source": [
        "### 라쏘 회귀"
      ]
    },
    {
      "cell_type": "code",
      "metadata": {
        "colab": {
          "base_uri": "https://localhost:8080/"
        },
        "id": "E23eTcLmhL9Z",
        "outputId": "b01b0fc1-8b7f-4505-b1f6-fdf81563ad45"
      },
      "source": [
        "# Lasso 클래스를 사용\n",
        "# 규제가  추가된 선형 회귀 버전\n",
        "from sklearn.linear_model import Lasso\n",
        "lasso_reg = Lasso(alpha=0.1)\n",
        "lasso_reg.fit(X, y)\n",
        "lasso_reg.predict([[1.5]])"
      ],
      "execution_count": null,
      "outputs": [
        {
          "output_type": "execute_result",
          "data": {
            "text/plain": [
              "array([4.77621741])"
            ]
          },
          "metadata": {
            "tags": []
          },
          "execution_count": 24
        }
      ]
    },
    {
      "cell_type": "markdown",
      "metadata": {
        "id": "BOmgNK_5I2tc"
      },
      "source": [
        "### 엘라스틱넷"
      ]
    },
    {
      "cell_type": "code",
      "metadata": {
        "id": "Ma7B7KxxI_-R",
        "colab": {
          "base_uri": "https://localhost:8080/"
        },
        "outputId": "276d0ab3-8465-4ee4-8bc9-be703e5a1bde"
      },
      "source": [
        "# 사이킷런의 ElasticNet 사용\n",
        "# 릿지와  라쏘 절충\n",
        "from sklearn.linear_model import ElasticNet\n",
        "elastic_net = ElasticNet(alpha=0.1, l1_ratio=0.5)\n",
        "elastic_net.fit(X, y)\n",
        "elastic_net.predict([[1.5]])"
      ],
      "execution_count": null,
      "outputs": [
        {
          "output_type": "execute_result",
          "data": {
            "text/plain": [
              "array([4.78114505])"
            ]
          },
          "metadata": {
            "tags": []
          },
          "execution_count": 25
        }
      ]
    },
    {
      "cell_type": "markdown",
      "metadata": {
        "id": "K9PQiDxXKr9z"
      },
      "source": [
        "### 조기 종료"
      ]
    },
    {
      "cell_type": "code",
      "metadata": {
        "id": "bwTKArc1iXF2"
      },
      "source": [
        "# 조기 종료를 위한 기본 코드\n",
        "from sklearn.base import clone\n",
        "from sklearn.preprocessing import StandardScaler\n",
        "\n",
        "# 데이터 준비\n",
        "\n",
        "X_train, X_val, y_train, y_val = train_test_split(X[:50], y[:50].ravel(), test_size=0.5)\n",
        "poly_scaler = Pipeline([\n",
        "    (\"poly_features\", PolynomialFeatures(degree=90, include_bias=False)),\n",
        "    (\"std_scaler\", StandardScaler())\n",
        "])\n",
        "X_train_poly_scaled = poly_scaler.fit_transform(X_train)\n",
        "X_val_poly_scaled = poly_scaler.transform(X_val)\n",
        "\n",
        "sgd_reg = SGDRegressor(max_iter=1, tol=-np.infty, warm_start=True, penalty=None, learning_rate=\"constant\", eta0=0.0005)  \n",
        "# warm_start=True로 지정하면 fit() 메서드가 호출될 때 처음부터 다시 시작하지 않고 이전 모델 파라미터에서 훈련을 이어간다.\n",
        "\n",
        "minimum_val_error = float(\"inf\")\n",
        "best_epoch = None\n",
        "best_model = None\n",
        "for epoch in range(1000):\n",
        "    sgd_reg.fit(X_train_poly_scaled, y_train)  # 훈련을 이어서 진행\n",
        "    y_vla_predict = sgd_reg.predict(X_val_poly_scaled)\n",
        "    val_error = mean_squared_error(y_val, y_vla_predict)\n",
        "    if val_error < minimum_val_error:\n",
        "        minimum_val_error = minimum_val_error\n",
        "        best_epoch = epoch\n",
        "        best_model = clone(sgd_reg)"
      ],
      "execution_count": null,
      "outputs": []
    },
    {
      "cell_type": "markdown",
      "metadata": {
        "id": "xqeD16RYKufJ"
      },
      "source": [
        "## 로지스틱 회귀"
      ]
    },
    {
      "cell_type": "markdown",
      "metadata": {
        "id": "Cal9JKEmOwia"
      },
      "source": [
        "### 결정 경계"
      ]
    },
    {
      "cell_type": "code",
      "metadata": {
        "id": "IU4iGdveTRDa",
        "colab": {
          "base_uri": "https://localhost:8080/"
        },
        "outputId": "dc85d382-d9d4-46e6-e276-3ff9cb890cbd"
      },
      "source": [
        "from sklearn import datasets\n",
        "\n",
        "iris = datasets.load_iris()\n",
        "list(iris.keys())"
      ],
      "execution_count": null,
      "outputs": [
        {
          "output_type": "execute_result",
          "data": {
            "text/plain": [
              "['data', 'target', 'target_names', 'DESCR', 'feature_names', 'filename']"
            ]
          },
          "metadata": {
            "tags": []
          },
          "execution_count": 27
        }
      ]
    },
    {
      "cell_type": "code",
      "metadata": {
        "id": "BBHwXmKUlT7E"
      },
      "source": [
        "X = iris[\"data\"][:, 3:]  # 꽃잎의 너비\n",
        "y = (iris[\"target\"] == 2).astype(np.int)  # 1 Iris-Virginica면 1, 그렇지 않으면 0"
      ],
      "execution_count": null,
      "outputs": []
    },
    {
      "cell_type": "code",
      "metadata": {
        "colab": {
          "base_uri": "https://localhost:8080/"
        },
        "id": "x3ZALV7Nlz4n",
        "outputId": "8ec104e6-ab76-4b20-dd44-d30aba8f513c"
      },
      "source": [
        "# 로지스틱 모델을 훈련시킵니다.\n",
        "from sklearn.linear_model import LogisticRegression\n",
        "\n",
        "log_reg = LogisticRegression()\n",
        "log_reg.fit(X, y)"
      ],
      "execution_count": null,
      "outputs": [
        {
          "output_type": "execute_result",
          "data": {
            "text/plain": [
              "LogisticRegression(C=1.0, class_weight=None, dual=False, fit_intercept=True,\n",
              "                   intercept_scaling=1, l1_ratio=None, max_iter=100,\n",
              "                   multi_class='auto', n_jobs=None, penalty='l2',\n",
              "                   random_state=None, solver='lbfgs', tol=0.0001, verbose=0,\n",
              "                   warm_start=False)"
            ]
          },
          "metadata": {
            "tags": []
          },
          "execution_count": 29
        }
      ]
    },
    {
      "cell_type": "code",
      "metadata": {
        "colab": {
          "base_uri": "https://localhost:8080/",
          "height": 282
        },
        "id": "SS2zV7-JmEU5",
        "outputId": "380ee181-b376-412f-ee74-3b976408aed9"
      },
      "source": [
        "# 꽃잎의 너비가 0~3cm인 꽃에 대해 모델의 추정 확률을 계산\n",
        "X_new = np.linspace(0, 3, 1000).reshape(-1, 1)\n",
        "y_proba = log_reg.predict_proba(X_new)\n",
        "plt.plot(X_new, y_proba[:, 1], \"g-\", label=\"Iris virginica\")\n",
        "plt.plot(X_new, y_proba[:, 0], \"b--\", label=\"Not Iris virginica\")"
      ],
      "execution_count": null,
      "outputs": [
        {
          "output_type": "execute_result",
          "data": {
            "text/plain": [
              "[<matplotlib.lines.Line2D at 0x7f8bf4cfa0d0>]"
            ]
          },
          "metadata": {
            "tags": []
          },
          "execution_count": 30
        },
        {
          "output_type": "display_data",
          "data": {
            "image/png": "[encoded data removed]",
            "text/plain": [
              "<Figure size 432x288 with 1 Axes>"
            ]
          },
          "metadata": {
            "tags": [],
            "needs_background": "light"
          }
        }
      ]
    },
    {
      "cell_type": "code",
      "metadata": {
        "colab": {
          "base_uri": "https://localhost:8080/"
        },
        "id": "WijyyGaQnBsi",
        "outputId": "2838961f-596a-4e68-e410-2ce3d280d011"
      },
      "source": [
        "# 꽃잎의 너비가 1.6cm보다 크면 분류기는 Iris-Verginica로 분류하고, 그보다 작으면 아니라고 예측\n",
        "log_reg.predict([[1.7], [1.5]])"
      ],
      "execution_count": null,
      "outputs": [
        {
          "output_type": "execute_result",
          "data": {
            "text/plain": [
              "array([1, 0])"
            ]
          },
          "metadata": {
            "tags": []
          },
          "execution_count": 31
        }
      ]
    },
    {
      "cell_type": "markdown",
      "metadata": {
        "id": "cofe0gDTVDnc"
      },
      "source": [
        "### 소프트맥스 회귀"
      ]
    },
    {
      "cell_type": "code",
      "metadata": {
        "id": "I5Hb2bKIVM0w",
        "colab": {
          "base_uri": "https://localhost:8080/"
        },
        "outputId": "509384a0-bf59-4200-9e82-bdf3a96db80b"
      },
      "source": [
        "X = iris[\"data\"][:, (2, 3)]  # 꽃잎 길이, 꽃잎 너비\n",
        "y = iris[\"target\"]\n",
        "\n",
        "softmax_reg = LogisticRegression(multi_class=\"multinomial\", solver=\"lbfgs\", C=10)  # solver=\"lbfgs\" 소프트맥스 회귀를 지원하는 알고리즘 지정\n",
        "softmax_reg.fit(X, y)"
      ],
      "execution_count": null,
      "outputs": [
        {
          "output_type": "execute_result",
          "data": {
            "text/plain": [
              "LogisticRegression(C=10, class_weight=None, dual=False, fit_intercept=True,\n",
              "                   intercept_scaling=1, l1_ratio=None, max_iter=100,\n",
              "                   multi_class='multinomial', n_jobs=None, penalty='l2',\n",
              "                   random_state=None, solver='lbfgs', tol=0.0001, verbose=0,\n",
              "                   warm_start=False)"
            ]
          },
          "metadata": {
            "tags": []
          },
          "execution_count": 32
        }
      ]
    },
    {
      "cell_type": "code",
      "metadata": {
        "colab": {
          "base_uri": "https://localhost:8080/"
        },
        "id": "A7iHYDI1nz7G",
        "outputId": "d35065b4-ba6e-4c0c-8b99-f1b9a8c0dd6a"
      },
      "source": [
        "# 꽃잎의 길이가 5cm, 너비가 2cm인 붓꽃을 발견했다고 가정하고 붓꽃의 품종 클래스 예측\n",
        "softmax_reg.predict([[5, 2]])"
      ],
      "execution_count": null,
      "outputs": [
        {
          "output_type": "execute_result",
          "data": {
            "text/plain": [
              "array([2])"
            ]
          },
          "metadata": {
            "tags": []
          },
          "execution_count": 33
        }
      ]
    },
    {
      "cell_type": "code",
      "metadata": {
        "colab": {
          "base_uri": "https://localhost:8080/"
        },
        "id": "HQXDWSuoobmm",
        "outputId": "ec843e5e-14b1-4e00-c18d-2e9abb7b5ece"
      },
      "source": [
        "# 꽃잎의 길이가 5cm, 너비가 2cm인 붓꽃을 발견했다고 가정하고 붓꽃의 품종 확률 예측\n",
        "softmax_reg.predict_proba([[5, 2]])"
      ],
      "execution_count": null,
      "outputs": [
        {
          "output_type": "execute_result",
          "data": {
            "text/plain": [
              "array([[6.38014896e-07, 5.74929995e-02, 9.42506362e-01]])"
            ]
          },
          "metadata": {
            "tags": []
          },
          "execution_count": 34
        }
      ]
    }
  ]
}